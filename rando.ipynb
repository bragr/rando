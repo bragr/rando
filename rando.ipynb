{
 "cells": [
  {
   "cell_type": "markdown",
   "metadata": {},
   "source": [
    "# Rando image generator\n",
    "\n",
    "## Load Image\n",
    "\n",
    "This only needs to be run once to select and image"
   ]
  },
  {
   "cell_type": "code",
   "execution_count": null,
   "metadata": {},
   "outputs": [],
   "source": [
    "import numpy\n",
    "import random\n",
    "from PIL import Image, ImageDraw\n",
    "\n",
    "rand = random.SystemRandom()\n",
    "\n",
    "image_file = input(\"Enter the image file name: \")\n",
    "source_image = Image.open(image_file).convert(\"RGB\")\n",
    "source_array = numpy.array(source_image)\n",
    "print(\"This is the starting image:\")\n",
    "display(source_image)"
   ]
  },
  {
   "cell_type": "markdown",
   "metadata": {},
   "source": [
    "## Initialize Run\n",
    "\n",
    "This prepares initializes or resets the target image. Run this once per session, or to reset the progress."
   ]
  },
  {
   "cell_type": "code",
   "execution_count": null,
   "metadata": {},
   "outputs": [],
   "source": [
    "def random_xy(image):\n",
    "    return (rand.randint(0, image.size[0] - 1), rand.randint(0, image.size[1] - 1))\n",
    "\n",
    "def draw_random_line(draw, proposal):\n",
    "    magnitude_ratio = difference / MAX_DIFFERENCE\n",
    "    \n",
    "    # Calculate how long the line should be based on the magnitude progress\n",
    "    length_ratio = magnitude_ratio * CONFIG[\"line\"][\"magnitude_length_scale\"]\n",
    "    length_ratio = min(length_ratio, CONFIG[\"line\"][\"max_max_length_percent\"])\n",
    "    length_ratio = max(length_ratio, CONFIG[\"line\"][\"min_max_length_percent\"])\n",
    "    max_x_length = round(proposal.size[0] * length_ratio)\n",
    "    max_y_length = round(proposal.size[1] * length_ratio)\n",
    "\n",
    "    # Get the starting and ending points of the line\n",
    "    start_xy = random_xy(proposal)\n",
    "    end_xy = (rand.randint(start_xy[0] - max_x_length, start_xy[0] + max_x_length - 1),\n",
    "              rand.randint(start_xy[1] - max_y_length, start_xy[1] + max_y_length - 1))\n",
    "    \n",
    "    # Calculate the width of the line based on the magnitude progress\n",
    "    max_width = round(magnitude_ratio * CONFIG[\"line\"][\"magnitude_width_scale\"] * CONFIG[\"line\"][\"max_max_width\"])\n",
    "    max_width = min(max_width, CONFIG[\"line\"][\"max_max_width\"])\n",
    "    max_width = max(max_width, CONFIG[\"line\"][\"min_max_width\"])\n",
    "    width = CONFIG[\"line\"][\"min_max_width\"] if max_width == CONFIG[\"line\"][\"min_max_width\"] else rand.randint(CONFIG[\"line\"][\"min_max_width\"], max_width)\n",
    "    \n",
    "    draw.line(start_xy + end_xy, fill=rand.randint(0, 0xFFFFFF), width=width)\n",
    "\n",
    "def mean_squared_error(image1_array, image2):\n",
    "    \"\"\"Calculate the mean squared error between two images.\"\"\"\n",
    "    return numpy.mean(numpy.square(image1_array - numpy.array(image2)))\n",
    "\n",
    "def peak_signal_to_noise_ratio(image1_array, image2):\n",
    "    \"\"\"Calculate the peak signal to noise ratio between two images.\"\"\"\n",
    "    mse = mean_squared_error(image1_array, image2)\n",
    "    return 10 * numpy.log10(255 ** 2 / mse)\n",
    "\n",
    "def absolute_difference(image1_array, image2):\n",
    "    \"\"\"Calculate the absolute difference between two images.\"\"\"\n",
    "    return numpy.sum(numpy.abs(image1_array - numpy.array(image2)))\n",
    "\n",
    "white_image = Image.new('RGB', source_image.size, color=0xFFFFFF)\n",
    "grey_image = Image.new('RGB', source_image.size, color=0x808080)\n",
    "black_image = Image.new('RGB', source_image.size, color=0x000000)\n",
    "\n",
    "print(f\"White image:\\tMSE: {mean_squared_error(source_array, white_image)}, PSNR: {peak_signal_to_noise_ratio(source_array, white_image)}, AD: {absolute_difference(source_array, white_image)}\")\n",
    "print(f\"Grey image:\\tMSE: {mean_squared_error(source_array, grey_image)}, PSNR: {peak_signal_to_noise_ratio(source_array, grey_image)}, AD: {absolute_difference(source_array, grey_image)}\")\n",
    "print(f\"Black image:\\tMSE: {mean_squared_error(source_array, black_image)}, PSNR: {peak_signal_to_noise_ratio(source_array, black_image)}, AD: {absolute_difference(source_array, black_image)}\")\n",
    "\n",
    "target_image = grey_image\n",
    "difference = mean_squared_error(source_array, target_image)\n",
    "MAX_DIFFERENCE = difference\n",
    "print(f\"Initial difference: {difference}. Starting image:\")\n",
    "display(target_image)\n",
    "\n",
    "frame = 0  # Frame counter"
   ]
  },
  {
   "cell_type": "markdown",
   "metadata": {},
   "source": [
    "## Generate\n",
    "\n",
    "Additional runs iterate on the same image unless reset above."
   ]
  },
  {
   "cell_type": "code",
   "execution_count": null,
   "metadata": {},
   "outputs": [],
   "source": [
    "CONFIG = {\n",
    "    \"line\": {\n",
    "        \"min_max_length_percent\": 0.02,\n",
    "        \"max_max_length_percent\": 1.0,\n",
    "        \"magnitude_length_scale\": 1.0,\n",
    "        \"min_max_width\": 1,\n",
    "        \"max_max_width\": 10,\n",
    "        \"magnitude_width_scale\": 1.0\n",
    "    }\n",
    "}\n",
    "\n",
    "for i in range(1000000):\n",
    "    proposal = target_image.copy()\n",
    "    draw = ImageDraw.Draw(proposal)\n",
    "    draw_random_line(draw, proposal)\n",
    "    proposal_differcence = mean_squared_error(source_array, proposal)\n",
    "    if proposal_differcence < difference:\n",
    "        target_image = proposal\n",
    "        difference = proposal_differcence\n",
    "        print(f\"New difference: {difference:.5f}\\tFrame: {frame}\\tTicks: {i}\\tDifference percetage: {difference / MAX_DIFFERENCE * 100:.4f}%\")\n",
    "        with open(f\"frames/frame{frame:06d}.png\", \"wb\") as f:\n",
    "            target_image.save(f)\n",
    "            frame += 1\n",
    "display(target_image)"
   ]
  }
 ],
 "metadata": {
  "kernelspec": {
   "display_name": "Python 3",
   "language": "python",
   "name": "python3"
  },
  "language_info": {
   "codemirror_mode": {
    "name": "ipython",
    "version": 3
   },
   "file_extension": ".py",
   "mimetype": "text/x-python",
   "name": "python",
   "nbconvert_exporter": "python",
   "pygments_lexer": "ipython3",
   "version": "3.10.12"
  },
  "orig_nbformat": 4
 },
 "nbformat": 4,
 "nbformat_minor": 2
}
